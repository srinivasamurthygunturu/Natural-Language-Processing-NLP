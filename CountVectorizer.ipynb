{
 "cells": [
  {
   "cell_type": "code",
   "execution_count": 27,
   "id": "b1ce7db9",
   "metadata": {},
   "outputs": [],
   "source": [
    "corpus = [\n",
    "     'This is the first document.',\n",
    "     'This document is the second document.',\n",
    "     'And this is the third one.',\n",
    "     'Is this the first        document?']"
   ]
  },
  {
   "cell_type": "code",
   "execution_count": 28,
   "id": "30c6076f",
   "metadata": {},
   "outputs": [],
   "source": [
    "corpus = [text.lower() for text in corpus]"
   ]
  },
  {
   "cell_type": "code",
   "execution_count": 29,
   "id": "566bed90",
   "metadata": {},
   "outputs": [],
   "source": [
    "import regex as re\n",
    "corpus = [ re.sub(r'\\W',' ',text) for text in corpus]\n",
    "corpus = [ re.sub(r' +',' ',text) for text in corpus]"
   ]
  },
  {
   "cell_type": "code",
   "execution_count": 30,
   "id": "856b99e6",
   "metadata": {},
   "outputs": [],
   "source": [
    "#corpus = [text[:-1] for text in corpus]"
   ]
  },
  {
   "cell_type": "code",
   "execution_count": 31,
   "id": "c107014a",
   "metadata": {},
   "outputs": [
    {
     "data": {
      "text/plain": [
       "['this is the first document ',\n",
       " 'this document is the second document ',\n",
       " 'and this is the third one ',\n",
       " 'is this the first document ']"
      ]
     },
     "execution_count": 31,
     "metadata": {},
     "output_type": "execute_result"
    }
   ],
   "source": [
    "corpus"
   ]
  },
  {
   "cell_type": "code",
   "execution_count": 32,
   "id": "0d04d045",
   "metadata": {},
   "outputs": [],
   "source": [
    "tokens = []\n",
    "for text in corpus:\n",
    "    tokens = tokens+ text.split()"
   ]
  },
  {
   "cell_type": "code",
   "execution_count": 33,
   "id": "450d2e0d",
   "metadata": {},
   "outputs": [
    {
     "data": {
      "text/plain": [
       "22"
      ]
     },
     "execution_count": 33,
     "metadata": {},
     "output_type": "execute_result"
    }
   ],
   "source": [
    "len(tokens)"
   ]
  },
  {
   "cell_type": "code",
   "execution_count": 34,
   "id": "7dd0f9aa",
   "metadata": {},
   "outputs": [
    {
     "name": "stdout",
     "output_type": "stream",
     "text": [
      "9\n"
     ]
    }
   ],
   "source": [
    "#Get the Vocab\n",
    "vocab = set(tokens)\n",
    "print(len(vocab))"
   ]
  },
  {
   "cell_type": "code",
   "execution_count": 35,
   "id": "2647e125",
   "metadata": {},
   "outputs": [],
   "source": [
    "initial_values=[0]*len(vocab)\n",
    "\n",
    "freq_table = dict(zip(vocab,initial_values))"
   ]
  },
  {
   "cell_type": "code",
   "execution_count": 36,
   "id": "f8338d23",
   "metadata": {},
   "outputs": [],
   "source": [
    "for token in tokens:\n",
    "    freq_table[token] = freq_table[token] + 1\n",
    "    "
   ]
  },
  {
   "cell_type": "code",
   "execution_count": 37,
   "id": "846d939c",
   "metadata": {},
   "outputs": [
    {
     "data": {
      "text/plain": [
       "{'document': 4,\n",
       " 'the': 4,\n",
       " 'second': 1,\n",
       " 'third': 1,\n",
       " 'is': 4,\n",
       " 'first': 2,\n",
       " 'this': 4,\n",
       " 'one': 1,\n",
       " 'and': 1}"
      ]
     },
     "execution_count": 37,
     "metadata": {},
     "output_type": "execute_result"
    }
   ],
   "source": [
    "freq_table"
   ]
  },
  {
   "cell_type": "code",
   "execution_count": 38,
   "id": "4fdaa3a7",
   "metadata": {},
   "outputs": [],
   "source": [
    "dictionary_items = freq_table.items()\n",
    "freq_table = dict(sorted(dictionary_items))"
   ]
  },
  {
   "cell_type": "code",
   "execution_count": 39,
   "id": "d7865a52",
   "metadata": {},
   "outputs": [
    {
     "data": {
      "text/plain": [
       "{'and': 1,\n",
       " 'document': 4,\n",
       " 'first': 2,\n",
       " 'is': 4,\n",
       " 'one': 1,\n",
       " 'second': 1,\n",
       " 'the': 4,\n",
       " 'third': 1,\n",
       " 'this': 4}"
      ]
     },
     "execution_count": 39,
     "metadata": {},
     "output_type": "execute_result"
    }
   ],
   "source": [
    "freq_table"
   ]
  },
  {
   "cell_type": "code",
   "execution_count": 40,
   "id": "50deb356",
   "metadata": {},
   "outputs": [],
   "source": [
    "vocab_list = list(freq_table.keys())"
   ]
  },
  {
   "cell_type": "code",
   "execution_count": 41,
   "id": "98f4df51",
   "metadata": {},
   "outputs": [
    {
     "data": {
      "text/plain": [
       "['and', 'document', 'first', 'is', 'one', 'second', 'the', 'third', 'this']"
      ]
     },
     "execution_count": 41,
     "metadata": {},
     "output_type": "execute_result"
    }
   ],
   "source": [
    "vocab_list"
   ]
  },
  {
   "cell_type": "code",
   "execution_count": 42,
   "id": "df496dca",
   "metadata": {},
   "outputs": [
    {
     "data": {
      "text/plain": [
       "['this is the first document ',\n",
       " 'this document is the second document ',\n",
       " 'and this is the third one ',\n",
       " 'is this the first document ']"
      ]
     },
     "execution_count": 42,
     "metadata": {},
     "output_type": "execute_result"
    }
   ],
   "source": [
    "corpus"
   ]
  },
  {
   "cell_type": "code",
   "execution_count": 43,
   "id": "f1c9e634",
   "metadata": {},
   "outputs": [],
   "source": [
    "vectors=[]\n",
    "for text in corpus:\n",
    "    vector=[]\n",
    "    for x in vocab_list:\n",
    "        vector.append(list(text.split()).count(x))\n",
    "    vectors.append(vector)\n",
    "            \n",
    "    \n",
    " \n",
    "        \n",
    "    "
   ]
  },
  {
   "cell_type": "code",
   "execution_count": 44,
   "id": "acacba24",
   "metadata": {},
   "outputs": [
    {
     "data": {
      "text/plain": [
       "[[0, 1, 1, 1, 0, 0, 1, 0, 1],\n",
       " [0, 2, 0, 1, 0, 1, 1, 0, 1],\n",
       " [1, 0, 0, 1, 1, 0, 1, 1, 1],\n",
       " [0, 1, 1, 1, 0, 0, 1, 0, 1]]"
      ]
     },
     "execution_count": 44,
     "metadata": {},
     "output_type": "execute_result"
    }
   ],
   "source": [
    "vectors"
   ]
  },
  {
   "cell_type": "code",
   "execution_count": 45,
   "id": "71a068d6",
   "metadata": {},
   "outputs": [],
   "source": [
    "from sklearn.feature_extraction.text import CountVectorizer\n",
    "corpus = [\n",
    "     'This is the first document.',\n",
    "     'This document is the second document.',\n",
    "     'And this is the third one.',\n",
    "     'Is this the first document?']"
   ]
  },
  {
   "cell_type": "code",
   "execution_count": 48,
   "id": "1b6ab1b8",
   "metadata": {},
   "outputs": [],
   "source": [
    "vectorizer = CountVectorizer()\n",
    "X = vectorizer.fit_transform(corpus)\n",
    "#vectorizer.get_feature_names_out()"
   ]
  },
  {
   "cell_type": "code",
   "execution_count": 49,
   "id": "6f575689",
   "metadata": {},
   "outputs": [
    {
     "name": "stdout",
     "output_type": "stream",
     "text": [
      "[[0 1 1 1 0 0 1 0 1]\n",
      " [0 2 0 1 0 1 1 0 1]\n",
      " [1 0 0 1 1 0 1 1 1]\n",
      " [0 1 1 1 0 0 1 0 1]]\n"
     ]
    }
   ],
   "source": [
    "print(X.toarray())"
   ]
  },
  {
   "cell_type": "code",
   "execution_count": null,
   "id": "897eb28d",
   "metadata": {},
   "outputs": [],
   "source": []
  },
  {
   "cell_type": "code",
   "execution_count": null,
   "id": "ab201bda",
   "metadata": {},
   "outputs": [],
   "source": []
  }
 ],
 "metadata": {
  "kernelspec": {
   "display_name": "Python 3",
   "language": "python",
   "name": "python3"
  },
  "language_info": {
   "codemirror_mode": {
    "name": "ipython",
    "version": 3
   },
   "file_extension": ".py",
   "mimetype": "text/x-python",
   "name": "python",
   "nbconvert_exporter": "python",
   "pygments_lexer": "ipython3",
   "version": "3.8.8"
  }
 },
 "nbformat": 4,
 "nbformat_minor": 5
}
